{
 "cells": [
  {
   "cell_type": "markdown",
   "id": "403ed4d6-9224-48c1-a94a-d83a4d698379",
   "metadata": {},
   "source": [
    "# python模块:argparse 学习笔记"
   ]
  },
  {
   "cell_type": "code",
   "execution_count": 2,
   "id": "879ab725-d035-45ed-9f0d-9378c48dc595",
   "metadata": {},
   "outputs": [],
   "source": [
    "import argparse\n",
    "parser = argparse.ArgumentParser(prog='argparse101', description='learn argparse.')"
   ]
  },
  {
   "cell_type": "markdown",
   "id": "c3e31fac-80cd-4470-9d1b-502491e9e4a2",
   "metadata": {
    "tags": []
   },
   "source": [
    "核心函数: argparse.add_argument():\n",
    "#### ArgumentParser.add_argument(name or flags...[, action][, nargs][, const][, default][, type][, choices][, required][, help][, metavar][, dest])"
   ]
  },
  {
   "cell_type": "markdown",
   "id": "67ec174e-af6e-4253-8480-e46477471f11",
   "metadata": {},
   "source": [
    "## 1. name or flags\n",
    "\n",
    "功能:提供命令行参数中位置参数或可选参数(或关键字参数)的参数名"
   ]
  },
  {
   "cell_type": "markdown",
   "id": "d8f91e86-d94e-4abc-aaa7-350faee051c3",
   "metadata": {},
   "source": [
    "### 1.1 可选参数\n",
    "\n",
    "```python\n",
    "parser.add_argument('-f') # 变量名/返回对象属性名为f\n",
    "parser.add_argument('-nf') # 变量名/返回对象属性名为nf\n",
    "parser.add_argument('--foo') # 变量名为foo\n",
    "parser.add_argument('-f', '--foo') # 变量名为foo\n",
    "```"
   ]
  },
  {
   "cell_type": "markdown",
   "id": "9a62bf7c-edd9-435b-a55e-8bd3749af313",
   "metadata": {},
   "source": [
    "### 1.2 位置参数\n",
    "\n",
    "```python\n",
    "parser.add_argument('bar') # 变量名为bar\n",
    "```"
   ]
  },
  {
   "cell_type": "markdown",
   "id": "dac6d8e7-495a-4fdc-ac84-a8ab516ac8ac",
   "metadata": {},
   "source": [
    "### 1.3 示例"
   ]
  },
  {
   "cell_type": "code",
   "execution_count": 7,
   "id": "388b9fde-c271-4af6-af81-11a07b3a8b0d",
   "metadata": {},
   "outputs": [],
   "source": [
    "parser = argparse.ArgumentParser(prog='PROG')\n",
    "parser.add_argument('-f', '--foo')\n",
    "parser.add_argument('bar');"
   ]
  },
  {
   "cell_type": "code",
   "execution_count": 8,
   "id": "2a450f42-f3ed-4c66-a743-993ebbd909da",
   "metadata": {},
   "outputs": [
    {
     "data": {
      "text/plain": [
       "Namespace(bar='BAR', foo=None)"
      ]
     },
     "execution_count": 8,
     "metadata": {},
     "output_type": "execute_result"
    }
   ],
   "source": [
    "# 在上面的配置下, 只给位置参数而不指定可选参数, 则可选参数变量为none.\n",
    "parser.parse_args(['BAR'])"
   ]
  },
  {
   "cell_type": "code",
   "execution_count": 10,
   "id": "a9288fd0-b740-4209-853a-a7cb64e12e22",
   "metadata": {},
   "outputs": [
    {
     "data": {
      "text/plain": [
       "Namespace(bar='BAR', foo='FOO')"
      ]
     },
     "execution_count": 10,
     "metadata": {},
     "output_type": "execute_result"
    }
   ],
   "source": [
    "parser.parse_args(['BAR', '-foo', 'FOO']) # 指定可选参数"
   ]
  },
  {
   "cell_type": "code",
   "execution_count": 6,
   "id": "5295852b-0cd7-4d8a-9bb2-e41c2d126315",
   "metadata": {},
   "outputs": [
    {
     "name": "stderr",
     "output_type": "stream",
     "text": [
      "usage: PROG [-h] [-f FOO] bar\n",
      "PROG: error: the following arguments are required: bar\n"
     ]
    },
    {
     "ename": "SystemExit",
     "evalue": "2",
     "output_type": "error",
     "traceback": [
      "An exception has occurred, use %tb to see the full traceback.\n",
      "\u001b[0;31mSystemExit\u001b[0m\u001b[0;31m:\u001b[0m 2\n"
     ]
    },
    {
     "name": "stderr",
     "output_type": "stream",
     "text": [
      "/home/liuxing/anaconda3/lib/python3.8/site-packages/IPython/core/interactiveshell.py:3449: UserWarning: To exit: use 'exit', 'quit', or Ctrl-D.\n",
      "  warn(\"To exit: use 'exit', 'quit', or Ctrl-D.\", stacklevel=1)\n"
     ]
    }
   ],
   "source": [
    "parser.parse_args(['--foo', 'FOO']) # 若没有给位置参数, 则报错"
   ]
  },
  {
   "cell_type": "markdown",
   "id": "09476b3e-8171-4b01-8525-00f6e0ef2e3e",
   "metadata": {},
   "source": [
    "## 2. action\n",
    "\n",
    "功能:指定这个命令行参数要干的事情/动作."
   ]
  },
  {
   "cell_type": "markdown",
   "id": "5e58a36a-dd91-4e86-becd-8fa147403b56",
   "metadata": {},
   "source": [
    "### 2.1 'store'\n",
    "\n",
    "默认动作, 存储参数的值."
   ]
  },
  {
   "cell_type": "code",
   "execution_count": 60,
   "id": "fcf96ed1-c425-4be8-bb19-ee6037da0d8e",
   "metadata": {},
   "outputs": [],
   "source": [
    "parser = argparse.ArgumentParser()\n",
    "parser.add_argument('--foo');"
   ]
  },
  {
   "cell_type": "code",
   "execution_count": 61,
   "id": "2066fdbb-0f89-43d2-8e7d-a2eadcd45f27",
   "metadata": {},
   "outputs": [
    {
     "data": {
      "text/plain": [
       "Namespace(foo='1')"
      ]
     },
     "execution_count": 61,
     "metadata": {},
     "output_type": "execute_result"
    }
   ],
   "source": [
    "parser.parse_args('--foo 1'.split())"
   ]
  },
  {
   "cell_type": "markdown",
   "id": "870a7641-5c34-4e0c-b2ef-184b6a99a583",
   "metadata": {},
   "source": [
    "### 2.2 'store_const'\n",
    "\n",
    "需要与`const`命名参数组合使用, 存储被`const`命名参数指定的值. 如果命令行指定了该选项, 则变量值为`const`的指定的值, 否则为`None`. 该选项不接受实参."
   ]
  },
  {
   "cell_type": "code",
   "execution_count": 298,
   "id": "a7f247de-e4fa-47bc-ae50-10b622cf69db",
   "metadata": {},
   "outputs": [],
   "source": [
    "parser = argparse.ArgumentParser()\n",
    "parser.add_argument('--foo', action='store_const', const=42);"
   ]
  },
  {
   "cell_type": "code",
   "execution_count": 299,
   "id": "2aeca567-909e-4ba4-a645-94eb48f01a61",
   "metadata": {},
   "outputs": [
    {
     "data": {
      "text/plain": [
       "Namespace(foo=42)"
      ]
     },
     "execution_count": 299,
     "metadata": {},
     "output_type": "execute_result"
    }
   ],
   "source": [
    "parser.parse_args('--foo'.split())"
   ]
  },
  {
   "cell_type": "code",
   "execution_count": 300,
   "id": "7d397512-af55-4c0b-b329-218a11d8893a",
   "metadata": {},
   "outputs": [
    {
     "data": {
      "text/plain": [
       "Namespace(foo=None)"
      ]
     },
     "execution_count": 300,
     "metadata": {},
     "output_type": "execute_result"
    }
   ],
   "source": [
    "parser.parse_args(''.split())"
   ]
  },
  {
   "cell_type": "markdown",
   "id": "0c78a5e9-bf09-49b3-be53-321475ed9a86",
   "metadata": {},
   "source": [
    "### 2.3 'store_true'/'store_false'\n",
    "\n",
    "存储布尔值, 如果命令行不指定该选项, 则默认为`False`/`True`."
   ]
  },
  {
   "cell_type": "code",
   "execution_count": 20,
   "id": "cfed726a-d479-46a4-bc48-11916898e4df",
   "metadata": {},
   "outputs": [],
   "source": [
    "parser = argparse.ArgumentParser()\n",
    "parser.add_argument('--foo', action='store_true')\n",
    "parser.add_argument('--bar', action='store_false')\n",
    "parser.add_argument('--baz', action='store_false');"
   ]
  },
  {
   "cell_type": "code",
   "execution_count": 1,
   "id": "390e08fd-1959-46f4-b74d-fb99a89f0343",
   "metadata": {},
   "outputs": [
    {
     "ename": "NameError",
     "evalue": "name 'parser' is not defined",
     "output_type": "error",
     "traceback": [
      "\u001b[0;31m---------------------------------------------------------------------------\u001b[0m",
      "\u001b[0;31mNameError\u001b[0m                                 Traceback (most recent call last)",
      "\u001b[0;32m/tmp/ipykernel_30412/1642569469.py\u001b[0m in \u001b[0;36m<module>\u001b[0;34m\u001b[0m\n\u001b[0;32m----> 1\u001b[0;31m \u001b[0mparser\u001b[0m\u001b[0;34m.\u001b[0m\u001b[0mparse_args\u001b[0m\u001b[0;34m(\u001b[0m\u001b[0;34m'--foo --bar'\u001b[0m\u001b[0;34m.\u001b[0m\u001b[0msplit\u001b[0m\u001b[0;34m(\u001b[0m\u001b[0;34m)\u001b[0m\u001b[0;34m)\u001b[0m \u001b[0;31m# 没有指定-baz, 因此对应action不会触发, 值就为True.\u001b[0m\u001b[0;34m\u001b[0m\u001b[0;34m\u001b[0m\u001b[0m\n\u001b[0m",
      "\u001b[0;31mNameError\u001b[0m: name 'parser' is not defined"
     ]
    }
   ],
   "source": [
    "parser.parse_args('--foo --bar'.split()) # 没有指定-baz, 因此对应action不会触发, 值就为True."
   ]
  },
  {
   "cell_type": "markdown",
   "id": "6fc2572b-83eb-4cc0-8cb4-6d9d719cb039",
   "metadata": {},
   "source": [
    "### 2.4 'append'\n",
    "\n",
    "存储一个列表, 多次使用时, 后指定的参数会被追加到该列表.每次使用只能指定一个参数(如果不使用`nargs`命名参数配合的话)."
   ]
  },
  {
   "cell_type": "code",
   "execution_count": 151,
   "id": "684faf23-8fad-4253-93a6-8fb8ad433ad9",
   "metadata": {},
   "outputs": [],
   "source": [
    "parser = argparse.ArgumentParser()\n",
    "parser.add_argument('--foo', action='append');"
   ]
  },
  {
   "cell_type": "code",
   "execution_count": 152,
   "id": "ddb39ed7-2694-434c-82a3-5b9d46cacbf2",
   "metadata": {},
   "outputs": [
    {
     "data": {
      "text/plain": [
       "Namespace(foo=['1', '2'])"
      ]
     },
     "execution_count": 152,
     "metadata": {},
     "output_type": "execute_result"
    }
   ],
   "source": [
    "parser.parse_args('--foo 1 --foo 2'.split())"
   ]
  },
  {
   "cell_type": "code",
   "execution_count": 123,
   "id": "c11ec1c9-a9fa-4489-bc4f-f52ea400f889",
   "metadata": {},
   "outputs": [
    {
     "name": "stderr",
     "output_type": "stream",
     "text": [
      "usage: ipykernel_launcher.py [-h] [--foo FOO]\n",
      "ipykernel_launcher.py: error: unrecognized arguments: 2\n"
     ]
    },
    {
     "ename": "SystemExit",
     "evalue": "2",
     "output_type": "error",
     "traceback": [
      "An exception has occurred, use %tb to see the full traceback.\n",
      "\u001b[0;31mSystemExit\u001b[0m\u001b[0;31m:\u001b[0m 2\n"
     ]
    },
    {
     "name": "stderr",
     "output_type": "stream",
     "text": [
      "/home/liuxing/anaconda3/lib/python3.8/site-packages/IPython/core/interactiveshell.py:3449: UserWarning: To exit: use 'exit', 'quit', or Ctrl-D.\n",
      "  warn(\"To exit: use 'exit', 'quit', or Ctrl-D.\", stacklevel=1)\n"
     ]
    }
   ],
   "source": [
    "parser.parse_args('--foo 1 2'.split())"
   ]
  },
  {
   "cell_type": "markdown",
   "id": "8806a146-6a3a-46c4-a6b3-f86ac01a24cd",
   "metadata": {},
   "source": [
    "### 2.5 'append_const'\n",
    "\n",
    "需要与`const`命名参数组合使用, 存储一个列表, 如果选择了该参数, 则将`const`指定的值追加到列表."
   ]
  },
  {
   "cell_type": "code",
   "execution_count": 91,
   "id": "7206c767-35ed-4558-aeef-04eeaa943bb3",
   "metadata": {},
   "outputs": [],
   "source": [
    "parser = argparse.ArgumentParser()\n",
    "parser.add_argument('--str', dest='types', action='append_const', const=str)\n",
    "parser.add_argument('--int', dest='types', action='append_const', const=int);"
   ]
  },
  {
   "cell_type": "code",
   "execution_count": 92,
   "id": "8f0af420-f8ad-4e04-af21-91764ff66823",
   "metadata": {},
   "outputs": [
    {
     "data": {
      "text/plain": [
       "Namespace(types=[<class 'str'>, <class 'int'>])"
      ]
     },
     "execution_count": 92,
     "metadata": {},
     "output_type": "execute_result"
    }
   ],
   "source": [
    "parser.parse_args('--str --int'.split())"
   ]
  },
  {
   "cell_type": "markdown",
   "id": "ba8464ef-4e14-426c-bb1a-5b7413692d2e",
   "metadata": {},
   "source": [
    "### 2.6 'count'\n",
    "\n",
    "计算一个关键字参数出现的次数. 可用于指定详情等级."
   ]
  },
  {
   "cell_type": "code",
   "execution_count": 93,
   "id": "9a514c84-0449-4085-84f3-24438778e386",
   "metadata": {},
   "outputs": [],
   "source": [
    "parser = argparse.ArgumentParser()\n",
    "parser.add_argument('--verbose', '-v', action='count', default=0);"
   ]
  },
  {
   "cell_type": "code",
   "execution_count": 97,
   "id": "45b1efd4-9cfe-4abb-885b-ed7e85d189e9",
   "metadata": {},
   "outputs": [
    {
     "data": {
      "text/plain": [
       "Namespace(verbose=3)"
      ]
     },
     "execution_count": 97,
     "metadata": {},
     "output_type": "execute_result"
    }
   ],
   "source": [
    "parser.parse_args('-vvv'.split())"
   ]
  },
  {
   "cell_type": "code",
   "execution_count": 98,
   "id": "f872fde2-2bfc-421e-a280-4ba506ac80eb",
   "metadata": {},
   "outputs": [
    {
     "data": {
      "text/plain": [
       "Namespace(verbose=3)"
      ]
     },
     "execution_count": 98,
     "metadata": {},
     "output_type": "execute_result"
    }
   ],
   "source": [
    "parser.parse_args('-v -v -v'.split())"
   ]
  },
  {
   "cell_type": "markdown",
   "id": "b4a36a31-9c2a-4dfb-bee6-c3d7c668131c",
   "metadata": {},
   "source": [
    "### 2.7 'help'\n",
    "\n",
    "打印所有当前解析器中的选项和参数的完整帮助信息, 然后退出. 默认情况下, 一个 help 动作会被自动加入解析器."
   ]
  },
  {
   "cell_type": "markdown",
   "id": "e1c4a0d0-5f3b-481e-843e-d653e1694640",
   "metadata": {},
   "source": [
    "### 2.8 'version'\n",
    "\n",
    "需要与`version`命名参数配合使用, 打印版本信息并**退出**."
   ]
  },
  {
   "cell_type": "code",
   "execution_count": 102,
   "id": "db3a0798-fdb4-4f5c-8e5e-6ae0b5b9e805",
   "metadata": {},
   "outputs": [],
   "source": [
    "parser = argparse.ArgumentParser(prog='PROG')\n",
    "parser.add_argument('--version', action='version', version='%(prog)s 2.0');"
   ]
  },
  {
   "cell_type": "code",
   "execution_count": 103,
   "id": "52b6fa4c-0240-4cad-954a-d978fa13c108",
   "metadata": {},
   "outputs": [
    {
     "name": "stdout",
     "output_type": "stream",
     "text": [
      "PROG 2.0\n"
     ]
    },
    {
     "ename": "SystemExit",
     "evalue": "0",
     "output_type": "error",
     "traceback": [
      "An exception has occurred, use %tb to see the full traceback.\n",
      "\u001b[0;31mSystemExit\u001b[0m\u001b[0;31m:\u001b[0m 0\n"
     ]
    }
   ],
   "source": [
    "parser.parse_args(['--version'])"
   ]
  },
  {
   "cell_type": "markdown",
   "id": "7433617d-4b63-4aac-8749-98bb5392a7d3",
   "metadata": {},
   "source": [
    "### 2.9 'extend'\n",
    "\n",
    "存储一个列表, 可以一个命令行参数(即选项)一次性指定多个参数值(需要与`nargs`配合), 也可以多次使用. 所有值将存储到一个列表."
   ]
  },
  {
   "cell_type": "code",
   "execution_count": 166,
   "id": "2f05e225-2653-41fd-8c19-058d00393860",
   "metadata": {},
   "outputs": [
    {
     "data": {
      "text/plain": [
       "Namespace(foo=['f1', 'f2', 'f3'])"
      ]
     },
     "execution_count": 166,
     "metadata": {},
     "output_type": "execute_result"
    }
   ],
   "source": [
    "parser = argparse.ArgumentParser()\n",
    "parser.add_argument(\"--foo\", action=\"extend\", nargs=\"+\", type=str);\n",
    "\n",
    "parser.parse_args(\"--foo f1 --foo f2 f3\".split())"
   ]
  },
  {
   "cell_type": "markdown",
   "id": "6071684d-e7bc-47af-a7cc-9867b39120cd",
   "metadata": {},
   "source": [
    "与'append'的区别: \n",
    "- 'extend'似乎会把这些单独列表里面的元素拿出来重新组成一个新的列表.\n",
    "- 'append'似乎会把每次调用时给的参数当作更独立的对象(由`nargs`来决定)来组成列表, 例如下面由于`nargs`指定了\"+\", 所以每次指定命令行参数时都形成单独的列表, 最后把几个列表当作相互独立的元素组成一个大列表. 例如:"
   ]
  },
  {
   "cell_type": "code",
   "execution_count": 135,
   "id": "228dc7ce-224c-4b63-93c1-3bfa91e5b50e",
   "metadata": {},
   "outputs": [
    {
     "data": {
      "text/plain": [
       "Namespace(foo=[['f1'], ['f2', 'f3']])"
      ]
     },
     "execution_count": 135,
     "metadata": {},
     "output_type": "execute_result"
    }
   ],
   "source": [
    "parser = argparse.ArgumentParser()\n",
    "parser.add_argument(\"--foo\", action=\"append\", nargs=\"+\", type=str);\n",
    "\n",
    "parser.parse_args(\"--foo f1 --foo f2 f3\".split())"
   ]
  },
  {
   "cell_type": "markdown",
   "id": "4f0dfd43-d7dc-45ab-9886-75b1dadbdd84",
   "metadata": {},
   "source": [
    "## 3. nargs\n",
    "\n",
    "功能: 关联不同数目的命令行参数到单一动作."
   ]
  },
  {
   "cell_type": "markdown",
   "id": "d4f1e09a-a62c-476c-8878-db6a32acd4cd",
   "metadata": {},
   "source": [
    "### 3.1 `N`(一个整数)\n",
    "\n",
    "命令行中的`N`个参数会被聚集到一个列表中, 就是要求命令行参数需要提供指定数量的实参."
   ]
  },
  {
   "cell_type": "code",
   "execution_count": 11,
   "id": "644557e2-1631-4320-8951-eea24694a258",
   "metadata": {},
   "outputs": [],
   "source": [
    "parser = argparse.ArgumentParser()\n",
    "parser.add_argument('--foo', nargs=2) # 比如这里就可以用于要求输入ra dec\n",
    "parser.add_argument('bar', nargs=1); # 产生一个单元素列表."
   ]
  },
  {
   "cell_type": "code",
   "execution_count": 14,
   "id": "485fcda9-0388-4334-8e97-b755e097d454",
   "metadata": {},
   "outputs": [
    {
     "data": {
      "text/plain": [
       "Namespace(bar=['c'], foo=['a', 'b'])"
      ]
     },
     "execution_count": 14,
     "metadata": {},
     "output_type": "execute_result"
    }
   ],
   "source": [
    "parser.parse_args('c --foo a b'.split())"
   ]
  },
  {
   "cell_type": "markdown",
   "id": "2d50de5e-d237-49f3-8d30-2a5dc319cf6a",
   "metadata": {},
   "source": [
    "### 3.2 `?`\n",
    "\n",
    "需要与`const`,`default`命名参数配合使用:\n",
    "- 如果指定了命令行参数并提供了实参, 则产生一个值为指定实参的**单一项**.\n",
    "- 如果指定了命令行参数但没有提供实参, 则产生一个值为`const`指定的单一项. 位置参数没有这种情况.\n",
    "- 如果没有指定命令行参数, 则产生一个值位`default`指定的单一项."
   ]
  },
  {
   "cell_type": "code",
   "execution_count": 3,
   "id": "1db05663-8afe-4b27-8f13-97abd735bcd5",
   "metadata": {},
   "outputs": [],
   "source": [
    "parser = argparse.ArgumentParser()\n",
    "parser.add_argument('--foo', nargs='?', const='c', default='d')\n",
    "# 对于位置参数, 要想使用默认值就必须加上 nargs='?'\n",
    "parser.add_argument('bar', nargs='?', default='d');"
   ]
  },
  {
   "cell_type": "code",
   "execution_count": 4,
   "id": "8dd800d3-9419-4f52-aea3-402510a01abb",
   "metadata": {},
   "outputs": [
    {
     "name": "stdout",
     "output_type": "stream",
     "text": [
      "usage: ipykernel_launcher.py [-h] [--foo [FOO]] [bar]\n",
      "\n",
      "positional arguments:\n",
      "  bar\n",
      "\n",
      "optional arguments:\n",
      "  -h, --help   show this help message and exit\n",
      "  --foo [FOO]\n"
     ]
    }
   ],
   "source": [
    "parser.print_help()"
   ]
  },
  {
   "cell_type": "code",
   "execution_count": 162,
   "id": "ed9462bf-1c66-4eb5-bf22-f7b255b95a56",
   "metadata": {},
   "outputs": [
    {
     "data": {
      "text/plain": [
       "Namespace(bar='XX', foo='YY')"
      ]
     },
     "execution_count": 162,
     "metadata": {},
     "output_type": "execute_result"
    }
   ],
   "source": [
    "# 这里都提供了实参, 所以产生对应值.\n",
    "parser.parse_args(['XX', '--foo', 'YY'])"
   ]
  },
  {
   "cell_type": "code",
   "execution_count": 160,
   "id": "beab61d0-df13-4044-bccf-a09773e9751f",
   "metadata": {},
   "outputs": [
    {
     "data": {
      "text/plain": [
       "Namespace(bar='XX', foo='c')"
      ]
     },
     "execution_count": 160,
     "metadata": {},
     "output_type": "execute_result"
    }
   ],
   "source": [
    "# 这里位置参数提供了实参, 而关键字参数指定了但没有提供, 因此关键字参数产生`const`的值.\n",
    "parser.parse_args(['XX', '--foo'])"
   ]
  },
  {
   "cell_type": "code",
   "execution_count": 161,
   "id": "86c9f581-7bd5-4ea0-8d03-1764a6909430",
   "metadata": {},
   "outputs": [
    {
     "data": {
      "text/plain": [
       "Namespace(bar='d', foo='d')"
      ]
     },
     "execution_count": 161,
     "metadata": {},
     "output_type": "execute_result"
    }
   ],
   "source": [
    "# 这里都没有提供参数, 因此均产生`default`的值.\n",
    "parser.parse_args([])"
   ]
  },
  {
   "cell_type": "markdown",
   "id": "12c7a7cf-cb92-4ae5-890b-4d17d798b15b",
   "metadata": {},
   "source": [
    "### 3.3 `*`\n",
    "\n",
    "给各个命令行参数提供的所有参数被聚集到一个列表, 相当于`nargs=N`时N取无穷大?"
   ]
  },
  {
   "cell_type": "code",
   "execution_count": 11,
   "id": "a1b463c1-9394-4a15-a483-d66f4062cbb0",
   "metadata": {},
   "outputs": [],
   "source": [
    "parser = argparse.ArgumentParser()\n",
    "parser.add_argument('--foo', nargs='*', default=None)\n",
    "parser.add_argument('--bar', nargs='*')\n",
    "parser.add_argument('baz', nargs='*');"
   ]
  },
  {
   "cell_type": "code",
   "execution_count": 7,
   "id": "39c2faff-fa4b-4d9b-aa60-c31923c091a1",
   "metadata": {},
   "outputs": [
    {
     "data": {
      "text/plain": [
       "Namespace(bar=['1', '2'], baz=['a', 'b'], foo=['x', 'y'])"
      ]
     },
     "execution_count": 7,
     "metadata": {},
     "output_type": "execute_result"
    }
   ],
   "source": [
    "parser.parse_args('a b --foo x y --bar 1 2'.split())"
   ]
  },
  {
   "cell_type": "code",
   "execution_count": 184,
   "id": "7d8d3030-4604-4161-8d72-e4fd4fa1f88f",
   "metadata": {},
   "outputs": [
    {
     "data": {
      "text/plain": [
       "Namespace(bar=[], baz=[], foo=[])"
      ]
     },
     "execution_count": 184,
     "metadata": {},
     "output_type": "execute_result"
    }
   ],
   "source": [
    "# 就算不提供任何实际参数(包括位置参数), 也能产生变量, 值都是空列表.\n",
    "parser.parse_args('--foo --bar'.split())"
   ]
  },
  {
   "cell_type": "markdown",
   "id": "70185ad3-deb8-496c-826d-c2cefe3e183f",
   "metadata": {},
   "source": [
    "### 3.4 `+`\n",
    "\n",
    "与`*`类似, 给各个命令行参数提供的所有参数被聚集到一个列表. 区别是, 如果是`+`, 则必须提供至少一个实际参数"
   ]
  },
  {
   "cell_type": "code",
   "execution_count": 190,
   "id": "46b6e686-4db8-48df-b3f6-49357a6e60e2",
   "metadata": {},
   "outputs": [],
   "source": [
    "parser = argparse.ArgumentParser()\n",
    "parser.add_argument('--foo', nargs='+')\n",
    "parser.add_argument('--bar', nargs='+')\n",
    "parser.add_argument('baz', nargs='+');"
   ]
  },
  {
   "cell_type": "code",
   "execution_count": 193,
   "id": "7354f6e3-fd7c-4f88-9736-c4ef33f59340",
   "metadata": {},
   "outputs": [
    {
     "data": {
      "text/plain": [
       "Namespace(bar=['1', '2'], baz=['a', 'b'], foo=['x', 'y'])"
      ]
     },
     "execution_count": 193,
     "metadata": {},
     "output_type": "execute_result"
    }
   ],
   "source": [
    "parser.parse_args('a b --foo x y --bar 1 2'.split())"
   ]
  },
  {
   "cell_type": "code",
   "execution_count": null,
   "id": "a0885745-381a-4289-9615-d74625f89931",
   "metadata": {},
   "outputs": [],
   "source": [
    "# 这里--bar参数没有提供实际参数就会报错.\n",
    "parser.parse_args('a b --foo x --bar'.split())"
   ]
  },
  {
   "cell_type": "markdown",
   "id": "8b1e93d3-4396-4120-beaa-e68a90a04043",
   "metadata": {},
   "source": [
    "## 4. const\n",
    "\n",
    "功能: 保存不从命令行中读取但被各种 ArgumentParser 动作需求的常数值。\n",
    "最常用的两例为：\n",
    "- 当 add_argument() 通过 action='store_const' 或 action='append_const' 调用时。这些动作将 const 值添加到 parse_args() 返回的对象的属性中。在 action 的描述中查看实例。\n",
    "- 当 add_argument() 通过选项（例如 -f 或 --foo）调用并且 nargs='?' 时。这会创建一个可以跟随零个或一个命令行参数的选项。当解析命令行时，如果选项后没有参数，则将用 const 代替。在 nargs 描述中查看实例。"
   ]
  },
  {
   "cell_type": "markdown",
   "id": "25cf802e-e97c-42a3-9b1f-c8060f2e43ea",
   "metadata": {},
   "source": [
    "## 5. 默认值\n",
    "\n",
    "功能: 指定了在命令行参数未出现时应当使用的值。\n",
    "\n",
    "对于命令行中的关键字参数， default 值在选项未在命令行中出现时使用:"
   ]
  },
  {
   "cell_type": "code",
   "execution_count": 203,
   "id": "2fb0cc5f-2388-45ad-b952-01dc7132ab2e",
   "metadata": {},
   "outputs": [],
   "source": [
    "parser = argparse.ArgumentParser()\n",
    "parser.add_argument('--foo', default=42)\n",
    "parser.add_argument('bar', nargs='?', default=43);"
   ]
  },
  {
   "cell_type": "code",
   "execution_count": 204,
   "id": "3ede1296-4a5f-4112-bc91-e3267356d3b7",
   "metadata": {},
   "outputs": [
    {
     "data": {
      "text/plain": [
       "Namespace(bar=43, foo=42)"
      ]
     },
     "execution_count": 204,
     "metadata": {},
     "output_type": "execute_result"
    }
   ],
   "source": [
    "parser.parse_args([])"
   ]
  },
  {
   "cell_type": "markdown",
   "id": "8e815df2-a92a-457d-acb5-40a53c58f33d",
   "metadata": {},
   "source": [
    "## 6. type\n",
    "\n",
    "功能: 把提供给命令行参数的实参(字符串类型)转换成其它类型, 也可以是自定义的函数"
   ]
  },
  {
   "cell_type": "code",
   "execution_count": 7,
   "id": "0d5e3a44-9792-4019-9d3e-c4e95c92c4bc",
   "metadata": {},
   "outputs": [],
   "source": [
    "import pathlib\n",
    "parser = argparse.ArgumentParser()\n",
    "parser.add_argument('count', type=int)\n",
    "parser.add_argument('distance', type=float)\n",
    "parser.add_argument('street', type=ascii)\n",
    "parser.add_argument('code_point', type=ord)\n",
    "parser.add_argument('source_file', type=open)\n",
    "parser.add_argument('dest_file', type=argparse.FileType('w', encoding='latin-1'))\n",
    "parser.add_argument('datapath', type=pathlib.Path);"
   ]
  },
  {
   "cell_type": "code",
   "execution_count": 213,
   "id": "23059e76-0ea6-4694-ba88-44163ddbc375",
   "metadata": {},
   "outputs": [],
   "source": [
    "def hyphenated(string):\n",
    "    return '-'.join([word[:4] for word in string.casefold().split()])\n",
    "\n",
    "parser = argparse.ArgumentParser()\n",
    "_ = parser.add_argument('short_title', type=hyphenated)"
   ]
  },
  {
   "cell_type": "code",
   "execution_count": 214,
   "id": "ea0c0c9e-34a8-49c1-8932-2b76def647cb",
   "metadata": {},
   "outputs": [
    {
     "data": {
      "text/plain": [
       "Namespace(short_title='\"the-tale-of-two-citi')"
      ]
     },
     "execution_count": 214,
     "metadata": {},
     "output_type": "execute_result"
    }
   ],
   "source": [
    "parser.parse_args(['\"The Tale of Two Cities\"'])"
   ]
  },
  {
   "cell_type": "markdown",
   "id": "30ee17c4-6465-47e8-b344-5c9ca3f8be26",
   "metadata": {},
   "source": [
    "## 6. choices\n",
    "\n",
    "功能: 接受有限的几种可选值作为输入, 如果提供的实参不是可接受的值之一就会报错."
   ]
  },
  {
   "cell_type": "code",
   "execution_count": 222,
   "id": "c1c62814-957e-44bb-abb7-8db8738febc3",
   "metadata": {},
   "outputs": [],
   "source": [
    "parser = argparse.ArgumentParser()\n",
    "parser.add_argument('move', choices=['rock', 'paper', 'scissors'])\n",
    "parser.add_argument('--door', type=int, choices=range(1, 4));"
   ]
  },
  {
   "cell_type": "code",
   "execution_count": 225,
   "id": "3e28503c-493e-4765-b8d3-18debd5e9311",
   "metadata": {},
   "outputs": [
    {
     "data": {
      "text/plain": [
       "Namespace(door=2, move='rock')"
      ]
     },
     "execution_count": 225,
     "metadata": {},
     "output_type": "execute_result"
    }
   ],
   "source": [
    "parser.parse_args(['rock','--door','2'])"
   ]
  },
  {
   "cell_type": "code",
   "execution_count": null,
   "id": "5388200a-05ae-4be1-89e7-67bf8cb09e00",
   "metadata": {},
   "outputs": [],
   "source": [
    "parser.parse_args(['fire']) # 报错"
   ]
  },
  {
   "cell_type": "code",
   "execution_count": null,
   "id": "72897dc5-193b-4757-b015-84dddfa5a192",
   "metadata": {},
   "outputs": [],
   "source": [
    "parser.parse_args(['rock','--door','4']) # 报错"
   ]
  },
  {
   "cell_type": "markdown",
   "id": "b9be2af0-918f-4aa7-bbc6-f664fcf2bb26",
   "metadata": {},
   "source": [
    "## 7. required\n",
    "\n",
    "功能: 把可选的参数变成必需的."
   ]
  },
  {
   "cell_type": "code",
   "execution_count": 230,
   "id": "85317c35-5d6b-4a9d-833b-7c13934eb98a",
   "metadata": {},
   "outputs": [
    {
     "data": {
      "text/plain": [
       "Namespace(foo='BAR')"
      ]
     },
     "execution_count": 230,
     "metadata": {},
     "output_type": "execute_result"
    }
   ],
   "source": [
    "parser = argparse.ArgumentParser()\n",
    "parser.add_argument('--foo', required=True)\n",
    "parser.parse_args(['--foo', 'BAR'])"
   ]
  },
  {
   "cell_type": "code",
   "execution_count": 231,
   "id": "6e37c33a-0e40-4a7c-9844-6a4c9e4c23ce",
   "metadata": {},
   "outputs": [
    {
     "name": "stderr",
     "output_type": "stream",
     "text": [
      "usage: ipykernel_launcher.py [-h] --foo FOO\n",
      "ipykernel_launcher.py: error: the following arguments are required: --foo\n"
     ]
    },
    {
     "ename": "SystemExit",
     "evalue": "2",
     "output_type": "error",
     "traceback": [
      "An exception has occurred, use %tb to see the full traceback.\n",
      "\u001b[0;31mSystemExit\u001b[0m\u001b[0;31m:\u001b[0m 2\n"
     ]
    }
   ],
   "source": [
    "parser.parse_args([])"
   ]
  },
  {
   "cell_type": "markdown",
   "id": "58e52156-575d-48d5-bec1-29f5618bb36c",
   "metadata": {},
   "source": [
    "## 8. help\n",
    "\n",
    "功能: 请求帮助时显示包含参数简短描述的字符串."
   ]
  },
  {
   "cell_type": "code",
   "execution_count": 235,
   "id": "6b7c2dd9-ce3c-4630-b6dd-5fa9d6c71707",
   "metadata": {},
   "outputs": [
    {
     "name": "stdout",
     "output_type": "stream",
     "text": [
      "usage: frobble [-h] [--foo] [--boo [BOO]] bar [bar ...]\n",
      "\n",
      "positional arguments:\n",
      "  bar          one of the bars to be frobbled\n",
      "\n",
      "optional arguments:\n",
      "  -h, --help   show this help message and exit\n",
      "  --foo        foo the bars before frobbling\n",
      "  --boo [BOO]  the bar to frobble (default: 42)\n"
     ]
    },
    {
     "ename": "SystemExit",
     "evalue": "0",
     "output_type": "error",
     "traceback": [
      "An exception has occurred, use %tb to see the full traceback.\n",
      "\u001b[0;31mSystemExit\u001b[0m\u001b[0;31m:\u001b[0m 0\n"
     ]
    }
   ],
   "source": [
    "parser = argparse.ArgumentParser(prog='frobble')\n",
    "parser.add_argument('--foo', action='store_true',\n",
    "                    help='foo the bars before frobbling')\n",
    "parser.add_argument('bar', nargs='+',\n",
    "                    help='one of the bars to be frobbled')\n",
    "parser.add_argument('--boo', nargs='?', type=int, default=42,\n",
    "                    help='the bar to %(prog)s (default: %(default)s)')\n",
    "parser.parse_args(['-h'])"
   ]
  },
  {
   "cell_type": "code",
   "execution_count": 239,
   "id": "46e89185-55b3-4a37-9c84-0001e3cdd434",
   "metadata": {},
   "outputs": [
    {
     "data": {
      "text/plain": [
       "Namespace(bar=['1', '2', '3'], boo=42, foo=True)"
      ]
     },
     "execution_count": 239,
     "metadata": {},
     "output_type": "execute_result"
    }
   ],
   "source": [
    "parser.parse_args('1 2 3 --foo'.split())"
   ]
  },
  {
   "cell_type": "markdown",
   "id": "d35cb441-290b-4a68-a48c-be84222aad66",
   "metadata": {},
   "source": [
    "## 9. metavar\n",
    "\n",
    "功能: 显示帮助信息时指定预期参数的引用名字. 如果不指定, 则位置参数的默认名字为参数名本身, 可选参数的默认名字为自己的大写."
   ]
  },
  {
   "cell_type": "code",
   "execution_count": 245,
   "id": "77326a32-29ba-4fd7-8ea0-1178704a308f",
   "metadata": {},
   "outputs": [
    {
     "name": "stdout",
     "output_type": "stream",
     "text": [
      "usage: ipykernel_launcher.py [-h] [--foo FOO] bar\n",
      "\n",
      "positional arguments:\n",
      "  bar\n",
      "\n",
      "optional arguments:\n",
      "  -h, --help  show this help message and exit\n",
      "  --foo FOO\n"
     ]
    }
   ],
   "source": [
    "## 不指定metavar\n",
    "parser = argparse.ArgumentParser()\n",
    "parser.add_argument('--foo')\n",
    "parser.add_argument('bar')\n",
    "parser.print_help()"
   ]
  },
  {
   "cell_type": "code",
   "execution_count": 246,
   "id": "4f525f58-898b-43cc-99d0-e858c30b4f1f",
   "metadata": {},
   "outputs": [
    {
     "name": "stdout",
     "output_type": "stream",
     "text": [
      "usage: ipykernel_launcher.py [-h] [--foo YYY] XXX\n",
      "\n",
      "positional arguments:\n",
      "  XXX\n",
      "\n",
      "optional arguments:\n",
      "  -h, --help  show this help message and exit\n",
      "  --foo YYY\n"
     ]
    }
   ],
   "source": [
    "## 指定metavar\n",
    "parser = argparse.ArgumentParser()\n",
    "parser.add_argument('--foo', metavar='YYY')\n",
    "parser.add_argument('bar',metavar='XXX')\n",
    "parser.print_help()"
   ]
  },
  {
   "cell_type": "code",
   "execution_count": 252,
   "id": "e0f465a5-a8e2-4a47-b1f8-0ecb450c6e63",
   "metadata": {},
   "outputs": [
    {
     "name": "stdout",
     "output_type": "stream",
     "text": [
      "usage: PROG [-h] [-x X X] [--foo bar baz]\n",
      "\n",
      "optional arguments:\n",
      "  -h, --help     show this help message and exit\n",
      "  -x X X\n",
      "  --foo bar baz\n"
     ]
    }
   ],
   "source": [
    "# 如果某个命令行参数需要提供多个实参, 则相应的提供一个元组给metavar\n",
    "parser = argparse.ArgumentParser(prog='PROG')\n",
    "parser.add_argument('-x', nargs=2)\n",
    "parser.add_argument('--foo', nargs=2, metavar=('bar', 'baz'))\n",
    "parser.print_help()"
   ]
  },
  {
   "cell_type": "markdown",
   "id": "05a3cc13-231f-451b-b4d3-d48fd32e06c6",
   "metadata": {},
   "source": [
    "## 10. dest\n",
    "\n",
    "功能: 指定 `parse_args()`返回对象的属性名.默认情况下:\n",
    "- 对于位置参数动作，dest 通常会采用 add_argument() 的第一个参数\n",
    "- 对于可选参数动作，dest 的值通常取add_argument()的第一个长选项字符串并去掉开头的 -- 字符串来生成 dest 的值。 如果没有提供长选项字符串，采用第一个短选项字符串并去掉开头的 - 字符。"
   ]
  },
  {
   "cell_type": "code",
   "execution_count": 255,
   "id": "c8bee591-ae85-4605-970e-40dca89c8a98",
   "metadata": {},
   "outputs": [
    {
     "data": {
      "text/plain": [
       "Namespace(bar='XXX')"
      ]
     },
     "execution_count": 255,
     "metadata": {},
     "output_type": "execute_result"
    }
   ],
   "source": [
    "## 位置参数\n",
    "parser = argparse.ArgumentParser()\n",
    "parser.add_argument('bar')\n",
    "parser.parse_args(['XXX'])"
   ]
  },
  {
   "cell_type": "code",
   "execution_count": 259,
   "id": "e093f2d4-2cae-48d7-b44b-61aba0d0acfa",
   "metadata": {},
   "outputs": [
    {
     "name": "stdout",
     "output_type": "stream",
     "text": [
      "usage: ipykernel_launcher.py [-h] [-f FOO_BAR] [-x X]\n",
      "\n",
      "optional arguments:\n",
      "  -h, --help            show this help message and exit\n",
      "  -f FOO_BAR, --foo-bar FOO_BAR, --foo FOO_BAR\n",
      "  -x X, -y X\n"
     ]
    }
   ],
   "source": [
    "## 可选参数\n",
    "parser = argparse.ArgumentParser()\n",
    "parser.add_argument('-f', '--foo-bar', '--foo')\n",
    "parser.add_argument('-x', '-y');\n",
    "parser.print_help()"
   ]
  },
  {
   "cell_type": "code",
   "execution_count": 257,
   "id": "b8b87f1d-5276-4bfd-bddb-941b4aeb530c",
   "metadata": {},
   "outputs": [
    {
     "data": {
      "text/plain": [
       "Namespace(foo_bar='1', x='2')"
      ]
     },
     "execution_count": 257,
     "metadata": {},
     "output_type": "execute_result"
    }
   ],
   "source": [
    "parser.parse_args('-f 1 -x 2'.split())"
   ]
  },
  {
   "cell_type": "code",
   "execution_count": 258,
   "id": "04112097-0d40-4fbe-ae86-12b507dd19a6",
   "metadata": {},
   "outputs": [
    {
     "data": {
      "text/plain": [
       "Namespace(foo_bar='1', x='2')"
      ]
     },
     "execution_count": 258,
     "metadata": {},
     "output_type": "execute_result"
    }
   ],
   "source": [
    "parser.parse_args('--foo 1 -y 2'.split())"
   ]
  },
  {
   "cell_type": "code",
   "execution_count": 260,
   "id": "92b8629f-e0d1-4135-82f5-515f5f2d25ac",
   "metadata": {},
   "outputs": [
    {
     "data": {
      "text/plain": [
       "Namespace(bar='XXX')"
      ]
     },
     "execution_count": 260,
     "metadata": {},
     "output_type": "execute_result"
    }
   ],
   "source": [
    "## 自定义\n",
    "parser = argparse.ArgumentParser()\n",
    "parser.add_argument('--foo', dest='bar')\n",
    "parser.parse_args('--foo XXX'.split())"
   ]
  },
  {
   "cell_type": "markdown",
   "id": "45819461-5e98-4050-b690-7edfcd6a761f",
   "metadata": {},
   "source": [
    "## parse_args()指定选项值的方式"
   ]
  },
  {
   "cell_type": "markdown",
   "id": "b5bdb532-0a46-452b-95cf-331ce1cb5ce2",
   "metadata": {},
   "source": [
    "### 1. 选项和它的值是作为两个单独参数传入"
   ]
  },
  {
   "cell_type": "code",
   "execution_count": 261,
   "id": "b1174696-3a4b-4668-8c0a-76f51d2af0ec",
   "metadata": {},
   "outputs": [],
   "source": [
    "parser = argparse.ArgumentParser(prog='PROG')\n",
    "parser.add_argument('-x')\n",
    "parser.add_argument('--foo');"
   ]
  },
  {
   "cell_type": "code",
   "execution_count": 262,
   "id": "5555ae1f-9fae-449c-9105-b45a1d51f962",
   "metadata": {},
   "outputs": [
    {
     "data": {
      "text/plain": [
       "Namespace(foo=None, x='X')"
      ]
     },
     "execution_count": 262,
     "metadata": {},
     "output_type": "execute_result"
    }
   ],
   "source": [
    "parser.parse_args(['-x', 'X'])"
   ]
  },
  {
   "cell_type": "code",
   "execution_count": 263,
   "id": "2d267b0b-5b3f-4c2a-b7d5-0efe0d9f4688",
   "metadata": {},
   "outputs": [
    {
     "data": {
      "text/plain": [
       "Namespace(foo='FOO', x=None)"
      ]
     },
     "execution_count": 263,
     "metadata": {},
     "output_type": "execute_result"
    }
   ],
   "source": [
    "parser.parse_args(['--foo', 'FOO'])"
   ]
  },
  {
   "cell_type": "markdown",
   "id": "685dacad-e8df-464e-86e0-fb988cf3047f",
   "metadata": {},
   "source": [
    "### 2. 对于长选项（名称长度超过一个字符的选项)\n",
    "选项和值也可以作为单个命令行参数传入，使用 = 分隔它们即可"
   ]
  },
  {
   "cell_type": "code",
   "execution_count": 264,
   "id": "8366086b-880a-45b6-a2b2-c79bfbe559e2",
   "metadata": {},
   "outputs": [
    {
     "data": {
      "text/plain": [
       "Namespace(foo='FOO', x=None)"
      ]
     },
     "execution_count": 264,
     "metadata": {},
     "output_type": "execute_result"
    }
   ],
   "source": [
    "parser.parse_args(['--foo=FOO'])"
   ]
  },
  {
   "cell_type": "markdown",
   "id": "ae7f4205-fc8c-44b9-a163-65c402fb2675",
   "metadata": {},
   "source": [
    "### 3. 对于短选项（长度只有一个字符的选项)\n",
    "选项和它的值可以拼接在一起:"
   ]
  },
  {
   "cell_type": "code",
   "execution_count": 265,
   "id": "680910f2-70ca-4685-baf1-896534d1476c",
   "metadata": {},
   "outputs": [
    {
     "data": {
      "text/plain": [
       "Namespace(foo=None, x='X')"
      ]
     },
     "execution_count": 265,
     "metadata": {},
     "output_type": "execute_result"
    }
   ],
   "source": [
    "parser.parse_args(['-xX'])"
   ]
  },
  {
   "cell_type": "markdown",
   "id": "4f6d5df7-a6d6-4383-a471-be0a08138c91",
   "metadata": {},
   "source": [
    "### 4. 有些短选项可以使用单个 - 前缀来进行合并\n",
    "如果仅有最后一个选项（或没有任何选项）需要值的话:"
   ]
  },
  {
   "cell_type": "code",
   "execution_count": 266,
   "id": "5bebf67e-1499-4b98-b5c0-da76910e0108",
   "metadata": {},
   "outputs": [],
   "source": [
    "parser = argparse.ArgumentParser(prog='PROG')\n",
    "parser.add_argument('-x', action='store_true')\n",
    "parser.add_argument('-y', action='store_true')\n",
    "parser.add_argument('-z');"
   ]
  },
  {
   "cell_type": "code",
   "execution_count": 269,
   "id": "d820470d-74b5-4aeb-8c26-dc2064f9d9a4",
   "metadata": {},
   "outputs": [
    {
     "data": {
      "text/plain": [
       "Namespace(x=True, y=True, z='Z')"
      ]
     },
     "execution_count": 269,
     "metadata": {},
     "output_type": "execute_result"
    }
   ],
   "source": [
    "parser.parse_args(['-xyzZ'])"
   ]
  },
  {
   "cell_type": "markdown",
   "id": "b6bac51c-b578-4a7a-9acd-3d65b36af63e",
   "metadata": {},
   "source": [
    "## 参数缩写(前缀匹配)\n",
    "\n",
    "parse_args() 方法 在默认情况下 允许将长选项缩写为前缀，如果缩写无歧义（即前缀与一个特定选项相匹配）的话:"
   ]
  },
  {
   "cell_type": "code",
   "execution_count": 284,
   "id": "73e8972f-41c8-4d9f-b9ee-c64ad861ca15",
   "metadata": {},
   "outputs": [],
   "source": [
    "parser = argparse.ArgumentParser(prog='PROG')\n",
    "parser.add_argument('-bacon')\n",
    "parser.add_argument('-badger');"
   ]
  },
  {
   "cell_type": "code",
   "execution_count": 285,
   "id": "8d07e257-4e6a-424a-91d0-d863b83ac402",
   "metadata": {},
   "outputs": [
    {
     "data": {
      "text/plain": [
       "Namespace(bacon='MMM', badger=None)"
      ]
     },
     "execution_count": 285,
     "metadata": {},
     "output_type": "execute_result"
    }
   ],
   "source": [
    "parser.parse_args('-bac MMM'.split())"
   ]
  },
  {
   "cell_type": "code",
   "execution_count": 286,
   "id": "de48da36-6607-4acd-898b-803c020b6995",
   "metadata": {},
   "outputs": [
    {
     "data": {
      "text/plain": [
       "Namespace(bacon=None, badger='WOOD')"
      ]
     },
     "execution_count": 286,
     "metadata": {},
     "output_type": "execute_result"
    }
   ],
   "source": [
    "parser.parse_args('-bad WOOD'.split())"
   ]
  },
  {
   "cell_type": "code",
   "execution_count": 287,
   "id": "a3ee57eb-8ae4-4fb1-88fe-bc17956a0f35",
   "metadata": {},
   "outputs": [
    {
     "name": "stderr",
     "output_type": "stream",
     "text": [
      "usage: PROG [-h] [-bacon BACON] [-badger BADGER]\n",
      "PROG: error: ambiguous option: -ba could match -bacon, -badger\n"
     ]
    },
    {
     "ename": "SystemExit",
     "evalue": "2",
     "output_type": "error",
     "traceback": [
      "An exception has occurred, use %tb to see the full traceback.\n",
      "\u001b[0;31mSystemExit\u001b[0m\u001b[0;31m:\u001b[0m 2\n"
     ]
    }
   ],
   "source": [
    "parser.parse_args('-ba BA'.split())"
   ]
  },
  {
   "cell_type": "markdown",
   "id": "d659114b",
   "metadata": {},
   "source": [
    "# LAB"
   ]
  },
  {
   "cell_type": "code",
   "execution_count": 15,
   "id": "e823a804",
   "metadata": {},
   "outputs": [],
   "source": [
    "parser = argparse.ArgumentParser(prog='searchdiff.py',\n",
    "                                    description='Detect and rank source on diffenrence image, require sklearn<0.23.',\n",
    "                                    formatter_class=argparse.ArgumentDefaultsHelpFormatter)\n",
    "parser.add_argument('-d', '--difimg',\n",
    "                    metavar='diff.fits',\n",
    "                    help='path to diffenrence image.')\n",
    "parser.add_argument('-s', '--sciimg',\n",
    "                    metavar='science.fits',\n",
    "                    help='path to science image.')\n",
    "parser.add_argument('-t', '--tplimg',\n",
    "                    metavar='template.fits',\n",
    "                    help='path to aligned template image.')\n",
    "parser.add_argument('--fwhm',\n",
    "                    type=float,\n",
    "                    help='FWHM in pixel.')\n",
    "parser.add_argument('--magzp',\n",
    "                    type=float,\n",
    "                    metavar='MAG_ZEROPOINT',\n",
    "                    default=0.0,\n",
    "                    help='mag zeropoint of difference(science) image.')\n",
    "parser.add_argument('--gain',\n",
    "                    type=float,\n",
    "                    metavar='GAIN',\n",
    "                    default=0.0,\n",
    "                    help='detector gain in e-/ADU.')\n",
    "parser.add_argument('--dthres',\n",
    "                    type=float,\n",
    "                    metavar='DETECT_THRESH',\n",
    "                    default=1.5,\n",
    "                    help='SExtractor config param')\n",
    "parser.add_argument('--athres',\n",
    "                    type=float,\n",
    "                    metavar='ANALYSIS_THRESH',\n",
    "                    default=1.5,\n",
    "                    help='SExtractor config param')\n",
    "parser.add_argument('--sexpath',\n",
    "                    default='/usr/bin/sex',\n",
    "                    metavar='/path/to/sex',\n",
    "                    help='path to SExtractor')\n",
    "parser.add_argument('--sexconf',\n",
    "                    metavar='config.sex',\n",
    "                    help='path to SExtractor config file, optional.');                 "
   ]
  },
  {
   "cell_type": "code",
   "execution_count": 16,
   "id": "85d5e3fc",
   "metadata": {},
   "outputs": [],
   "source": [
    "args = parser.parse_args(['--magzp','26'])"
   ]
  },
  {
   "cell_type": "code",
   "execution_count": 19,
   "id": "83a64927",
   "metadata": {},
   "outputs": [
    {
     "data": {
      "text/plain": [
       "Namespace(athres=1.5, difimg=None, dthres=1.5, fwhm=None, gain=0.0, magzp=26.0, sciimg=None, sexconf=None, sexpath='/usr/bin/sex', tplimg=None)"
      ]
     },
     "execution_count": 19,
     "metadata": {},
     "output_type": "execute_result"
    }
   ],
   "source": [
    "args"
   ]
  },
  {
   "cell_type": "code",
   "execution_count": null,
   "id": "26ed95b1",
   "metadata": {},
   "outputs": [],
   "source": []
  }
 ],
 "metadata": {
  "interpreter": {
   "hash": "93b2d6b8b19cb25d1e8f15d948a16ccff0bb10b869c5f2d9ab65012376c6e5a0"
  },
  "kernelspec": {
   "display_name": "Python [conda env:root] *",
   "language": "python",
   "name": "python3"
  },
  "language_info": {
   "codemirror_mode": {
    "name": "ipython",
    "version": 3
   },
   "file_extension": ".py",
   "mimetype": "text/x-python",
   "name": "python",
   "nbconvert_exporter": "python",
   "pygments_lexer": "ipython3",
   "version": "3.8.10"
  }
 },
 "nbformat": 4,
 "nbformat_minor": 5
}
