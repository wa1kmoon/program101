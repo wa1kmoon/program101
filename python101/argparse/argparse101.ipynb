{
 "cells": [
  {
   "cell_type": "code",
   "execution_count": 26,
   "id": "9e01dff8-48fc-42a1-bf35-6a0c8f907117",
   "metadata": {},
   "outputs": [],
   "source": [
    "import argparse\n",
    "import sys"
   ]
  },
  {
   "cell_type": "code",
   "execution_count": 27,
   "id": "6c43c00c-f629-4ba9-a179-790b9896a20c",
   "metadata": {},
   "outputs": [],
   "source": [
    "parser = argparse.ArgumentParser(prog='update_web', description='look for new json file and update the website.')\n",
    "# 带横缸的是可选参数\n",
    "# parser.add_argument('-k', '--koo', action='store_const', const='koo') # 'store_const'一般用于可选参数, 当没有指定时会取const数值\n",
    "# # 不带横杠的是位置参数, 必须提供, 位置不能错.\n",
    "# parser.add_argument('bar', action='store') # 'store'是默认的action, 可以不专门指定\n",
    "# parser.add_argument('ase', action='store') \n",
    "# parser.add_argument('-f', '--foo', action='store_true') # 'store_true'是store_const'的特殊情况\n",
    "# parser.add_argument('--loo', action='append') # 'append'用于处存列表\n",
    "# parser.add_argument('--str', dest='types', action='append_const', const=str)\n",
    "# parser.add_argument('--int', dest='types', action='append_const', const=int)\n",
    "# parser.parse_args(['--str', '--int','1','2'])"
   ]
  },
  {
   "cell_type": "code",
   "execution_count": 28,
   "id": "696bf7da-ca72-4825-bb4e-1137fbe51291",
   "metadata": {},
   "outputs": [
    {
     "data": {
      "text/plain": [
       "Namespace(bar=['1', '2'], baz=['123'], bazz=[], foo=['x', 'y'])"
      ]
     },
     "execution_count": 28,
     "metadata": {},
     "output_type": "execute_result"
    }
   ],
   "source": [
    "parser = argparse.ArgumentParser()\n",
    "parser.add_argument('--foo', nargs='*')\n",
    "parser.add_argument('--bar', nargs='*')\n",
    "parser.add_argument('baz', nargs='+')\n",
    "parser.add_argument('bazz', nargs='*')\n",
    "parser.parse_args('123 --foo x y --bar 1 2'.split())"
   ]
  },
  {
   "cell_type": "markdown",
   "id": "27331c1c-b63a-4d82-8993-a8bb5727064f",
   "metadata": {},
   "source": [
    "### nargs"
   ]
  },
  {
   "cell_type": "code",
   "execution_count": 29,
   "id": "ded2acf4-18de-4975-9bda-077d84f57d12",
   "metadata": {},
   "outputs": [
    {
     "data": {
      "text/plain": [
       "Namespace(bar=['c'], foo=['a', 'b'])"
      ]
     },
     "execution_count": 29,
     "metadata": {},
     "output_type": "execute_result"
    }
   ],
   "source": [
    "parser = argparse.ArgumentParser()\n",
    "parser.add_argument('--foo', nargs=2) # nargs是一个数, 将形成一个列表\n",
    "parser.add_argument('bar', nargs=1)\n",
    "parser.parse_args('c --foo a b'.split())"
   ]
  },
  {
   "cell_type": "code",
   "execution_count": 30,
   "id": "caab19d4-37d8-4da9-800e-c375bb6c4bf4",
   "metadata": {},
   "outputs": [
    {
     "data": {
      "text/plain": [
       "Namespace(bar='d', foo='d')"
      ]
     },
     "execution_count": 30,
     "metadata": {},
     "output_type": "execute_result"
    }
   ],
   "source": [
    "parser = argparse.ArgumentParser()\n",
    "# nargs一个问号, 返回单个值. 如果写了--foo,没给值, 则用const的值, 如果没写--foo, 则使用default的值\n",
    "parser.add_argument('--foo', nargs='?', const='c', default='d')\n",
    "parser.add_argument('bar', nargs='?', default='d')\n",
    "parser.parse_args(['XX', '--foo', 'YY'])\n",
    "\n",
    "parser.parse_args(['XX', '--foo'])\n",
    "\n",
    "parser.parse_args([])"
   ]
  },
  {
   "cell_type": "code",
   "execution_count": 34,
   "id": "52411810-b01f-4fa4-bf95-dbf42130f256",
   "metadata": {},
   "outputs": [],
   "source": [
    "# 可以使用'?'进行文件的打开和读写\n",
    "# parser = argparse.ArgumentParser()\n",
    "# parser.add_argument('infile', nargs='?', type=argparse.FileType('r'),\n",
    "#                     default=sys.stdin)\n",
    "# parser.add_argument('outfile', nargs='?', type=argparse.FileType('w'),\n",
    "#                     default=sys.stdout)\n",
    "# parser.parse_args(['input.txt', 'output.txt'])\n",
    "\n",
    "\n",
    "# parser.parse_args([])"
   ]
  },
  {
   "cell_type": "code",
   "execution_count": 32,
   "id": "00782c44-0dfc-4dc8-b135-0a0d4c35c846",
   "metadata": {},
   "outputs": [
    {
     "data": {
      "text/plain": [
       "Namespace(bar=['1', '2'], baz=['a', 'b'], foo=['x', 'y'])"
      ]
     },
     "execution_count": 32,
     "metadata": {},
     "output_type": "execute_result"
    }
   ],
   "source": [
    "# nargs是'*',返回一个列表\n",
    "parser = argparse.ArgumentParser()\n",
    "parser.add_argument('--foo', nargs='*')\n",
    "parser.add_argument('--bar', nargs='*')\n",
    "parser.add_argument('baz', nargs='*')\n",
    "parser.parse_args('a b --foo x y --bar 1 2'.split())"
   ]
  },
  {
   "cell_type": "code",
   "execution_count": 33,
   "id": "ad86cfb4-099b-43cc-a92e-9e5a9d8c12d0",
   "metadata": {},
   "outputs": [
    {
     "data": {
      "text/plain": [
       "Namespace(foo=['a', 'b'])"
      ]
     },
     "execution_count": 33,
     "metadata": {},
     "output_type": "execute_result"
    }
   ],
   "source": [
    "# nagrs是'+', 像'*'一样返回列表, 只是如果没有给值, 就会报错, 而'*'则会返回空列表\n",
    "parser = argparse.ArgumentParser(prog='PROG')\n",
    "parser.add_argument('foo', nargs='+')\n",
    "parser.parse_args(['a', 'b'])\n",
    "\n",
    "#parser.parse_args([])"
   ]
  },
  {
   "cell_type": "code",
   "execution_count": null,
   "id": "98b98f51-51ff-4952-be31-18f968474f23",
   "metadata": {},
   "outputs": [],
   "source": []
  }
 ],
 "metadata": {
  "kernelspec": {
   "display_name": "Python 3 (ipykernel)",
   "language": "python",
   "name": "python3"
  },
  "language_info": {
   "codemirror_mode": {
    "name": "ipython",
    "version": 3
   },
   "file_extension": ".py",
   "mimetype": "text/x-python",
   "name": "python",
   "nbconvert_exporter": "python",
   "pygments_lexer": "ipython3",
   "version": "3.8.10"
  }
 },
 "nbformat": 4,
 "nbformat_minor": 5
}
