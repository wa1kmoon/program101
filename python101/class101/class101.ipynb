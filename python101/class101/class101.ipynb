{
 "cells": [
  {
   "cell_type": "markdown",
   "id": "f184d406-b1f2-4179-ba82-f6ad611fa9aa",
   "metadata": {},
   "source": [
    "# python:类 学习笔记"
   ]
  },
  {
   "cell_type": "markdown",
   "id": "71693190-9c9f-4258-8246-ce4e3e92c378",
   "metadata": {},
   "source": [
    "## 1. 类介绍"
   ]
  },
  {
   "cell_type": "markdown",
   "id": "d0d413b1-dda8-43dd-873a-c1efdf37cd70",
   "metadata": {},
   "source": [
    "### 1.1 类对象"
   ]
  },
  {
   "cell_type": "markdown",
   "id": "76f840a2-25e4-487f-8bd9-514eff6362c5",
   "metadata": {},
   "source": [
    "类对象支持两种操作: **属性引用**和**实例化**.\n",
    "\n",
    "有效的属性名称是类对象被创建时存在于类命名空间中的**所有名称**, 例如:"
   ]
  },
  {
   "cell_type": "code",
   "execution_count": 2,
   "id": "868c0075-7b02-4fe0-9796-4d4c3abdb5ef",
   "metadata": {},
   "outputs": [],
   "source": [
    "class MyClass:\n",
    "    \"\"\"A simple example class\"\"\"\n",
    "    i = 12345\n",
    "\n",
    "    def f(self):\n",
    "        return 'hello world'"
   ]
  },
  {
   "cell_type": "code",
   "execution_count": 3,
   "id": "97501bdf-f664-4491-8815-4b1a950c9dc8",
   "metadata": {},
   "outputs": [
    {
     "data": {
      "text/plain": [
       "12345"
      ]
     },
     "execution_count": 3,
     "metadata": {},
     "output_type": "execute_result"
    }
   ],
   "source": [
    "MyClass.i"
   ]
  },
  {
   "cell_type": "code",
   "execution_count": 33,
   "id": "f5c90fa1-1768-43c8-a5a9-197b5d8140e7",
   "metadata": {},
   "outputs": [
    {
     "data": {
      "text/plain": [
       "<function __main__.MyClass.f(self)>"
      ]
     },
     "execution_count": 33,
     "metadata": {},
     "output_type": "execute_result"
    }
   ],
   "source": [
    "MyClass.f # 这是一个函数对象"
   ]
  },
  {
   "cell_type": "markdown",
   "id": "85eedbdf-0c48-48a3-af83-b8f005286f23",
   "metadata": {},
   "source": [
    "类属性也可以被赋值，因此可以通过赋值来更改 MyClass.i 的值"
   ]
  },
  {
   "cell_type": "code",
   "execution_count": 8,
   "id": "47bbd3f9-7561-4f28-8c7d-67ad6b01a6ad",
   "metadata": {},
   "outputs": [
    {
     "data": {
      "text/plain": [
       "123"
      ]
     },
     "execution_count": 8,
     "metadata": {},
     "output_type": "execute_result"
    }
   ],
   "source": [
    "MyClass.i = 123\n",
    "MyClass.i"
   ]
  },
  {
   "cell_type": "code",
   "execution_count": 11,
   "id": "a97ee969-603c-4dad-9a24-aecde5008c4c",
   "metadata": {},
   "outputs": [
    {
     "data": {
      "text/plain": [
       "'A simple example class'"
      ]
     },
     "execution_count": 11,
     "metadata": {},
     "output_type": "execute_result"
    }
   ],
   "source": [
    "# __doc__ 也是一个有效的属性，将返回所属类的文档字符串\n",
    "MyClass.__doc__"
   ]
  },
  {
   "cell_type": "markdown",
   "id": "4b47bfd9-e261-4fde-99fc-98b71736889f",
   "metadata": {},
   "source": [
    "实例化: 可以把类对象视为是返回该类的一个新实例的不带参数的函数, 例如:"
   ]
  },
  {
   "cell_type": "code",
   "execution_count": 29,
   "id": "e0960277-f8dd-42f4-b27e-9a39e0130441",
   "metadata": {},
   "outputs": [
    {
     "data": {
      "text/plain": [
       "(12345, 'hello world')"
      ]
     },
     "execution_count": 29,
     "metadata": {},
     "output_type": "execute_result"
    }
   ],
   "source": [
    "x = MyClass()\n",
    "x.i, x.f()"
   ]
  },
  {
   "cell_type": "markdown",
   "id": "ab834229-3181-440f-bb58-a5b4e058067b",
   "metadata": {},
   "source": [
    "给类定义一个 `__init__()` 方法, 在类被实例化时就该方法会自动被调用(初始化):"
   ]
  },
  {
   "cell_type": "code",
   "execution_count": 51,
   "id": "5caf802e-6ac1-452a-8948-f2d44b610e11",
   "metadata": {},
   "outputs": [],
   "source": [
    "class MyClass:\n",
    "    \"\"\"A simple example class\"\"\"\n",
    "    i = 12345\n",
    "\n",
    "    def __init__(self):\n",
    "        self.data = []\n",
    "\n",
    "    def f(self):\n",
    "        return 'hello world'\n",
    "    \n",
    "    def h(self, x, y):\n",
    "        print(x+y)"
   ]
  },
  {
   "cell_type": "code",
   "execution_count": 35,
   "id": "09244cd6-c2bb-4edc-9a43-e3e937c41ffe",
   "metadata": {},
   "outputs": [
    {
     "data": {
      "text/plain": [
       "[]"
      ]
     },
     "execution_count": 35,
     "metadata": {},
     "output_type": "execute_result"
    }
   ],
   "source": [
    "x = MyClass() # x是一个实例对象\n",
    "x.data"
   ]
  },
  {
   "cell_type": "markdown",
   "id": "b4673687-41a5-4c74-9029-42ece21f0295",
   "metadata": {},
   "source": [
    "`__init__()` 方法还可以有额外参数以实现更高灵活性。 在这种情况下，提供给**类实例化的参数**将被传递给 `__init__()`。 例如，:"
   ]
  },
  {
   "cell_type": "code",
   "execution_count": 36,
   "id": "6eedba2c-d3b0-409b-a6a9-b30b9958ee23",
   "metadata": {},
   "outputs": [],
   "source": [
    "class Complex:\n",
    "    def __init__(self, realpart, imagpart):\n",
    "        self.r = realpart\n",
    "        self.i = imagpart"
   ]
  },
  {
   "cell_type": "code",
   "execution_count": 37,
   "id": "ad6fa611-8ee7-4b7f-beb7-1d0742f665c3",
   "metadata": {},
   "outputs": [
    {
     "data": {
      "text/plain": [
       "(3.0, -4.5)"
      ]
     },
     "execution_count": 37,
     "metadata": {},
     "output_type": "execute_result"
    }
   ],
   "source": [
    "x = Complex(3.0, -4.5) # 提供给类实例化的参数: 3.0, -4/5\n",
    "x.r, x.i"
   ]
  },
  {
   "cell_type": "markdown",
   "id": "12c3d3c7-f706-4c04-af83-2ec230a58218",
   "metadata": {},
   "source": [
    "### 1.2 实例对象"
   ]
  },
  {
   "cell_type": "markdown",
   "id": "1f989dd0-731d-4e4e-8ecf-faebb31da4ad",
   "metadata": {},
   "source": [
    "实例对象理解的唯一操作是属性引用. 属性分两种: 数据属性和方法属性.\n",
    "- 数据属性不需要在类定义中声明, 它们在被赋值时产生和改变\n",
    "- 方法属性是从数于对象的函数. 一个类中定义的所有函数对象都是其实例的方法属性."
   ]
  },
  {
   "cell_type": "code",
   "execution_count": 52,
   "id": "d55486a2-d4ee-40db-803a-377245767b2b",
   "metadata": {},
   "outputs": [
    {
     "name": "stdout",
     "output_type": "stream",
     "text": [
      "16\n"
     ]
    }
   ],
   "source": [
    "# 数据属性:\n",
    "x = MyClass()\n",
    "x.counter = 1\n",
    "while x.counter < 10:\n",
    "    x.counter = x.counter * 2\n",
    "print(x.counter)\n",
    "del x.counter"
   ]
  },
  {
   "cell_type": "code",
   "execution_count": 43,
   "id": "219e0837-cdef-401a-8511-02d3f3748696",
   "metadata": {},
   "outputs": [
    {
     "data": {
      "text/plain": [
       "(method, function)"
      ]
     },
     "execution_count": 43,
     "metadata": {},
     "output_type": "execute_result"
    }
   ],
   "source": [
    "# 方法属性, 注意 x.f 是方法对象, 是一个方法; MyClass.f 是函数对象, 是一个函数\n",
    "type(x.f), type(MyClass.f)"
   ]
  },
  {
   "cell_type": "code",
   "execution_count": 65,
   "id": "cebcef50-5310-41b8-a3e3-07aac0d4367d",
   "metadata": {},
   "outputs": [
    {
     "name": "stdout",
     "output_type": "stream",
     "text": [
      "3\n"
     ]
    }
   ],
   "source": [
    "x.h(1,2) # 方法对象被调用时需要提供定义中除self外的其它参数."
   ]
  },
  {
   "cell_type": "code",
   "execution_count": 66,
   "id": "b58f067c-83ce-4768-89e3-7b0725360423",
   "metadata": {},
   "outputs": [
    {
     "name": "stdout",
     "output_type": "stream",
     "text": [
      "3\n"
     ]
    }
   ],
   "source": [
    "MyClass.h(x, 1 ,2) # 函数对象被调用时需要提供定义中的所有参数, 相当于x.h()"
   ]
  },
  {
   "cell_type": "markdown",
   "id": "f6fd08b5-5624-49f7-b5e1-1860a1adbf41",
   "metadata": {},
   "source": [
    "### 1.3 方法对象"
   ]
  },
  {
   "cell_type": "markdown",
   "id": "72b21411-8e38-4f58-96d8-7d41d773c047",
   "metadata": {},
   "source": [
    "如前面的例子所示, 方法的特殊之处就在于**实例对象会作为函数的第一个参数被传入**, 方法的第一个参数常常被命名为 `self`。在示例中，调用 x.f() 其实就相当于 MyClass.f(x)。"
   ]
  },
  {
   "cell_type": "markdown",
   "id": "48acebfc-0156-413b-ad3c-71344009ed1c",
   "metadata": {},
   "source": [
    "### 1.4 类变量和实例变量"
   ]
  },
  {
   "cell_type": "markdown",
   "id": "0e0e92c3-7510-4466-85db-93804bb0b25e",
   "metadata": {},
   "source": [
    "一般来说，实例变量用于每个实例的唯一数据，而类变量用于类的所有实例共享的属性和方法:\n",
    "\n",
    "```python\n",
    "class Dog:\n",
    "\n",
    "    kind = 'canine'         # class variable shared by all instances\n",
    "\n",
    "    def __init__(self, name):\n",
    "        self.name = name    # instance variable unique to each instance\n",
    "\n",
    ">>> d = Dog('Fido')\n",
    ">>> e = Dog('Buddy')\n",
    ">>> d.kind                  # shared by all dogs\n",
    "'canine'\n",
    ">>> e.kind                  # shared by all dogs\n",
    "'canine'\n",
    ">>> d.name                  # unique to d\n",
    "'Fido'\n",
    ">>> e.name                  # unique to e\n",
    "'Buddy'\n",
    "```\n",
    "\n",
    "注意, 不要把 mutable对象(如列表和字典) 设置为类变量, 因为这样容易把实例的特性混入类的特性.\n",
    "\n",
    "```python\n",
    "class Dog:\n",
    "\n",
    "    tricks = []             # mistaken use of a class variable\n",
    "\n",
    "    def __init__(self, name):\n",
    "        self.name = name\n",
    "\n",
    "    def add_trick(self, trick):\n",
    "        self.tricks.append(trick)\n",
    "\n",
    ">>> d = Dog('Fido')\n",
    ">>> e = Dog('Buddy')\n",
    ">>> d.add_trick('roll over')\n",
    ">>> e.add_trick('play dead')\n",
    ">>> d.tricks                # unexpectedly shared by all dogs\n",
    "['roll over', 'play dead']\n",
    "```\n",
    "\n",
    "```python\n",
    "class Dog:\n",
    "\n",
    "    def __init__(self, name):\n",
    "        self.name = name\n",
    "        self.tricks = []    # creates a new empty list for each dog\n",
    "\n",
    "    def add_trick(self, trick):\n",
    "        self.tricks.append(trick)\n",
    "\n",
    ">>> d = Dog('Fido')\n",
    ">>> e = Dog('Buddy')\n",
    ">>> d.add_trick('roll over')\n",
    ">>> e.add_trick('play dead')\n",
    ">>> d.tricks\n",
    "['roll over']\n",
    ">>> e.tricks\n",
    "['play dead']\n",
    "```"
   ]
  },
  {
   "cell_type": "markdown",
   "id": "b064cb41-d8e7-4576-bcec-2519e476f6aa",
   "metadata": {},
   "source": [
    "### 1.5 补充说明"
   ]
  },
  {
   "cell_type": "markdown",
   "id": "f58b44ce-418f-4667-908e-df59b0dc022a",
   "metadata": {},
   "source": [
    "方法可以通过使用`self` 参数的方法属性调用其他方法:"
   ]
  },
  {
   "cell_type": "code",
   "execution_count": 1,
   "id": "93588969-c2b7-4937-b335-581240983dac",
   "metadata": {},
   "outputs": [],
   "source": [
    "class Bag:\n",
    "    def __init__(self):\n",
    "        self.data = []\n",
    "\n",
    "    def add(self, x):\n",
    "        self.data.append(x)\n",
    "\n",
    "    def addtwice(self, x):\n",
    "        self.add(x)\n",
    "        self.add(x)"
   ]
  },
  {
   "cell_type": "code",
   "execution_count": null,
   "id": "b2ad3483-943d-485b-abbb-c4eedb6c018a",
   "metadata": {},
   "outputs": [
    {
     "data": {
      "text/plain": [
       "[1, 1]"
      ]
     },
     "execution_count": 5,
     "metadata": {},
     "output_type": "execute_result"
    }
   ],
   "source": [
    "b = Bag()\n",
    "b.addtwice(1)\n",
    "b.data"
   ]
  },
  {
   "cell_type": "markdown",
   "id": "4d4dd84f-299b-43b6-a235-ae6d58743848",
   "metadata": {},
   "source": [
    "每个值都是一个对象，因此具有 类 （也称为 类型），并存储为 `object.__class__`:"
   ]
  },
  {
   "cell_type": "code",
   "execution_count": 8,
   "id": "1a5a3715-efc4-4f74-991f-982f8e4f61a7",
   "metadata": {},
   "outputs": [
    {
     "data": {
      "text/plain": [
       "str"
      ]
     },
     "execution_count": 8,
     "metadata": {},
     "output_type": "execute_result"
    }
   ],
   "source": [
    "'s'.__class__"
   ]
  },
  {
   "cell_type": "markdown",
   "id": "1da189fa-fdc3-4faf-85e8-eb933c729638",
   "metadata": {},
   "source": [
    "## 2. 继承"
   ]
  },
  {
   "cell_type": "markdown",
   "id": "9ed9914d-da5f-46f9-a5dc-24352208a3f7",
   "metadata": {},
   "source": [
    "派生类定义的语法如下所示:\n",
    "\n",
    "```python\n",
    "class DerivedClassName(BaseClassName):\n",
    "    <statement-1>\n",
    "    .\n",
    "    .\n",
    "    .\n",
    "    <statement-N\n",
    "```\n",
    "\n",
    "当基类定义在另一个模块中的时候:\n",
    "\n",
    "```python\n",
    "class DerivedClassName(modname.BaseClassName):\n",
    "```\n",
    "\n",
    "方法引用将按以下方式解析：搜索相应的类属性，如有必要将按基类继承链逐步向下查找，如果产生了一个函数对象则方法引用就生效。"
   ]
  },
  {
   "cell_type": "markdown",
   "id": "1032ae26-2213-44bb-9198-6803f93bac01",
   "metadata": {},
   "source": [
    "Python有两个内置函数可被用于继承机制：\n",
    "\n",
    "- 使用 `isinstance()` 来检查一个实例的类型: `isinstance(obj, int)` 仅会在 `obj.__class__` 为 `int` 或某个派生自 `int` 的类时为 `True`。\n",
    "\n",
    "- 使用 `issubclass()` 来检查类的继承关系: `issubclass(bool, int)` 为 `True`，因为 `bool` 是 `int` 的子类。 但是，`issubclass(float, int)` 为 `False`，因为 `float` 不是 `int` 的子类。\n"
   ]
  },
  {
   "cell_type": "markdown",
   "id": "c360bb7b-9c6e-4161-8769-2abbf576d037",
   "metadata": {},
   "source": [
    "### 2.1 多重继承"
   ]
  },
  {
   "cell_type": "markdown",
   "id": "af06a806-ff96-4e66-9c38-2077db14e438",
   "metadata": {},
   "source": [
    "带有多个基类的类定义语句如下所示:\n",
    "\n",
    "```python\n",
    "class DerivedClassName(Base1, Base2, Base3):\n",
    "    <statement-1>\n",
    "    .\n",
    "    .\n",
    "    .\n",
    "    <statement-N>\n",
    "```\n",
    "\n",
    "如果某一属性在 DerivedClassName 中未找到，则会到 Base1 中搜索它，然后（递归地）到 Base1 的基类中搜索，如果在那里未找到，再到 Base2 中搜索，依此类推。"
   ]
  },
  {
   "cell_type": "markdown",
   "id": "9899d44b-6875-44f9-a115-0fd4fbd02d76",
   "metadata": {},
   "source": []
  },
  {
   "cell_type": "code",
   "execution_count": null,
   "id": "3809d945-4952-40ff-b216-8f57aeb3e660",
   "metadata": {},
   "outputs": [],
   "source": []
  }
 ],
 "metadata": {
  "kernelspec": {
   "display_name": "Python [conda env:root] *",
   "language": "python",
   "name": "conda-root-py"
  },
  "language_info": {
   "codemirror_mode": {
    "name": "ipython",
    "version": 3
   },
   "file_extension": ".py",
   "mimetype": "text/x-python",
   "name": "python",
   "nbconvert_exporter": "python",
   "pygments_lexer": "ipython3",
   "version": "3.8.10"
  }
 },
 "nbformat": 4,
 "nbformat_minor": 5
}
