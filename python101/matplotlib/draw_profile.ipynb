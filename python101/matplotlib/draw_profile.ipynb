{
 "cells": [
  {
   "cell_type": "code",
   "execution_count": 120,
   "id": "5e289bdf-9f0c-4c51-a8ba-fb7624b639d7",
   "metadata": {},
   "outputs": [],
   "source": [
    "%matplotlib inline\n",
    "import numpy as np\n",
    "import matplotlib as mpl\n",
    "import matplotlib.pyplot as plt\n",
    "from matplotlib.ticker import (MultipleLocator, AutoMinorLocator)"
   ]
  },
  {
   "cell_type": "code",
   "execution_count": 2,
   "id": "538af1db-bf47-4431-9ad5-19477d14f279",
   "metadata": {},
   "outputs": [],
   "source": [
    "from mpl_toolkits.axes_grid1.inset_locator import inset_axes\n",
    "def inset_plot(width, height,text,fontsize,ax):\n",
    "    \"\"\"\n",
    "    plot a inset at the bottom left corner with 0 padding\n",
    "    \n",
    "    Parameters:\n",
    "    ----------\n",
    "    width: float\n",
    "        the ratio of inset width w.r.t the parent axe's x axis\n",
    "    \n",
    "    height: float\n",
    "        the ratio of inset height w.r.t the parent axe's y axis\n",
    "    \n",
    "    text: str\n",
    "        the text displayed at the center of the inset\n",
    "    \n",
    "    fontsize: float\n",
    "    \n",
    "    ax: plt.ax\n",
    "        the ax the inset will be added to\n",
    "    \"\"\"\n",
    "    width='{}%'.format(width*100)\n",
    "    height='{}%'.format(height*100)\n",
    "    \n",
    "    axins = inset_axes(ax, width=width, height=height, loc=3, borderpad=0)\n",
    "    axins.tick_params(labelleft=False, labelbottom=False, length=0)\n",
    "    axins.text(0.5,0.5,text,size=fontsize, ha='center',va='center')"
   ]
  },
  {
   "cell_type": "code",
   "execution_count": 172,
   "id": "e68d5391-4fe6-4847-bdd5-077606809c01",
   "metadata": {},
   "outputs": [],
   "source": [
    "# 1d spec data\n",
    "flux1d=[]\n",
    "wl1d=[]\n",
    "with open('normalized.txt','r') as ns:\n",
    "    for line in ns.readlines():\n",
    "        w,f=line.strip(' \\n').split()\n",
    "        flux1d.append(float(f))\n",
    "        wl1d.append(float(w))\n",
    "\n",
    "flux1d=np.array(flux1d)\n",
    "wl1d=np.array(wl1d)"
   ]
  },
  {
   "cell_type": "code",
   "execution_count": 193,
   "id": "71ac556f-1095-4d6c-835a-125c3bf1d331",
   "metadata": {},
   "outputs": [],
   "source": [
    "z=1.859\n",
    "## for Fe II\n",
    "line = 2344\n",
    "c = 299792.458 # km/s\n",
    "def cut_data(line, z, limit, wl1d, fl1d):\n",
    "    \"\"\"\n",
    "    line: angstrom\n",
    "    limit: +- km/s\n",
    "    \"\"\"\n",
    "    global c\n",
    "    wl1d = wl1d / (1+z)\n",
    "    veloes = (wl1d-line) * c /line\n",
    "    idx500up = np.where(veloes > 0-limit)[0]\n",
    "    v500up, f500up = veloes[idx500up], fl1d[idx500up]\n",
    "    idx500lo = np.where(v500up < limit)[0]\n",
    "    v500, f500 = v500up[idx500lo], f500up[idx500lo]\n",
    "    \n",
    "    return v500, f500"
   ]
  },
  {
   "cell_type": "code",
   "execution_count": 206,
   "id": "898850da-b666-412b-a460-e8a749cf26b8",
   "metadata": {},
   "outputs": [],
   "source": [
    "# read lines and their wavelengthes from file\n",
    "lines={}\n",
    "with open('lines.txt','r') as lf:\n",
    "    for line in lf.readlines():\n",
    "        if line.strip(' \\n') == '': continue\n",
    "        lamb, linename = line.strip(' \\n').split()\n",
    "        linename = linename.split('(')[0]\n",
    "        I_idx = linename.find('I')\n",
    "        if I_idx != -1:\n",
    "            ele = linename[:I_idx]\n",
    "            lev = linename[I_idx:]\n",
    "        else:\n",
    "            ele = linename\n",
    "            lev = ''\n",
    "        lines[float(lamb)]='{} {}'.format(ele,lev)"
   ]
  },
  {
   "cell_type": "code",
   "execution_count": 223,
   "id": "357df505-d05a-42d6-940c-7fc9a8ef7277",
   "metadata": {},
   "outputs": [
    {
     "data": {
      "text/plain": [
       "1215.67"
      ]
     },
     "execution_count": 223,
     "metadata": {},
     "output_type": "execute_result"
    }
   ],
   "source": [
    "list(lines.keys())[np.argsort(np.abs(np.array(list(lines.keys())) - 1215))[0]]"
   ]
  },
  {
   "cell_type": "code",
   "execution_count": 227,
   "id": "7df18747-f519-4915-a9fd-ae48a4f7d974",
   "metadata": {},
   "outputs": [],
   "source": [
    "# lines you want to draw\n",
    "linelist=[1302.17,1670.79,1854.7,2796.4]"
   ]
  },
  {
   "cell_type": "code",
   "execution_count": 228,
   "id": "76b1d954-b1db-4dc5-9e50-aba5cd8eee24",
   "metadata": {},
   "outputs": [
    {
     "data": {
      "text/plain": [
       "(-400.0, 300.0)"
      ]
     },
     "execution_count": 228,
     "metadata": {},
     "output_type": "execute_result"
    },
    {
     "data": {
      "image/png": "[encoded data removed]",
      "text/plain": [
       "<Figure size 504x576 with 8 Axes>"
      ]
     },
     "metadata": {
      "needs_background": "light"
     },
     "output_type": "display_data"
    }
   ],
   "source": [
    "nsubs=len(linelist)\n",
    "fig, axes = plt.subplots(nsubs,1,sharex=True, figsize=(7,2*nsubs))\n",
    "plt.rcParams['ytick.right'] = True\n",
    "plt.rcParams['xtick.top'] = True\n",
    "plt.rcParams['xtick.bottom'] = True\n",
    "plt.rcParams['ytick.direction'] = 'in' # y轴刻度朝里\n",
    "plt.rcParams['xtick.direction'] = 'in' # x轴刻度朝里\n",
    "fig.subplots_adjust(hspace=0)\n",
    "for idx,ax in enumerate(axes):\n",
    "    ax.set_ylim(0.0,1.5)\n",
    "    ax.yaxis.set_major_locator(MultipleLocator(0.5)) # 设置主刻度为0.5的倍数\n",
    "    ax.yaxis.set_major_formatter('{x:.1f}') # 主刻度坐标显示的格式:一位小数\n",
    "    # For the minor ticks, use no labels; default NullFormatter.\n",
    "    ax.yaxis.set_minor_locator(MultipleLocator(0.1)) # 副刻度为0.1的倍数,默认不显示副刻度坐标\n",
    "\n",
    "    ax.xaxis.set_major_locator(MultipleLocator(100))\n",
    "    ax.xaxis.set_major_formatter('{x:.0f}')\n",
    "    # For the minor ticks, use no labels; default NullFormatter.\n",
    "    ax.xaxis.set_minor_locator(MultipleLocator(10))\n",
    "    ax.set_yticks([0.0,0.5,1.0])\n",
    "    ax.set_yticklabels(['0.0','0.5','1.0'])\n",
    "    #inset_plot(0.25,0.3,'test II',15,ax)\n",
    "    \n",
    "    line_wl = list(lines.keys())[ np.argsort( np.abs(np.array(list(lines.keys())) - linelist[idx]) )[0] ]\n",
    "    line_name = lines[line_wl]\n",
    "    \n",
    "    v, f = cut_data(line_wl, 1.859, 500, wl1d, flux1d)\n",
    "    ax.plot(v, f, drawstyle='steps-mid', c='k', linewidth=1.1)\n",
    "    inset_plot(0.25,0.3,line_name,15,ax)\n",
    "    \n",
    "\n",
    "axes[-1].set_xlim(xlim)"
   ]
  },
  {
   "cell_type": "markdown",
   "id": "1b60ee34-fbcf-459a-ad18-c167c046b42d",
   "metadata": {},
   "source": [
    "## draw an inset text box"
   ]
  },
  {
   "cell_type": "code",
   "execution_count": 9,
   "id": "893c025c-5bf2-4ef6-bf98-a2f51260c430",
   "metadata": {},
   "outputs": [],
   "source": [
    "from matplotlib.offsetbox import (TextArea, DrawingArea, OffsetImage,\n",
    "                                  AnnotationBbox)"
   ]
  },
  {
   "cell_type": "code",
   "execution_count": 40,
   "id": "2ccdb873-9047-404f-a8a3-948ccb8ac651",
   "metadata": {},
   "outputs": [
    {
     "data": {
      "text/plain": [
       "<matplotlib.offsetbox.AnnotationBbox at 0x7fc82810b220>"
      ]
     },
     "execution_count": 40,
     "metadata": {},
     "output_type": "execute_result"
    },
    {
     "data": {
      "image/png": "[encoded data removed]",
      "text/plain": [
       "<Figure size 432x288 with 1 Axes>"
      ]
     },
     "metadata": {
      "needs_background": "light"
     },
     "output_type": "display_data"
    }
   ],
   "source": [
    "figt, axt = plt.subplots()\n",
    "ry, rx = 0.4, 0.25 # 文本框的高度和宽度占比\n",
    "\n",
    "# Annotate the 1st position with another text box ('Test')\n",
    "offsetbox = TextArea(\"Test\")\n",
    "\n",
    "ab = AnnotationBbox(offsetbox, (0,0),\n",
    "                    xybox=(0,0),\n",
    "                    xycoords='axes fraction',\n",
    "                    boxcoords=\"axes fraction\",\n",
    "                    pad=0.4,\n",
    "                    box_alignment=(0,0))\n",
    "\n",
    "axt.add_artist(ab)"
   ]
  },
  {
   "cell_type": "code",
   "execution_count": 68,
   "id": "9347aae5-bc7b-47b5-9ecd-8431e0e48fb5",
   "metadata": {},
   "outputs": [
    {
     "data": {
      "image/png": "[encoded data removed]",
      "text/plain": [
       "<Figure size 432x288 with 1 Axes>"
      ]
     },
     "metadata": {
      "needs_background": "light"
     },
     "output_type": "display_data"
    }
   ],
   "source": [
    "import matplotlib.pyplot as plt\n",
    "\n",
    "plt.text(0, 0, \"spam\", size=50, transform=ax.transAxes,\n",
    "         ha=\"left\", va=\"bottom\",\n",
    "         bbox=dict(boxstyle=\"square\"\n",
    "                   )\n",
    "         )\n",
    "\n",
    "plt.show()"
   ]
  },
  {
   "cell_type": "code",
   "execution_count": 6,
   "id": "35c74385-5def-4e7e-856b-f24360f653a1",
   "metadata": {},
   "outputs": [
    {
     "data": {
      "image/png": "[encoded data removed]",
      "text/plain": [
       "<Figure size 504x216 with 2 Axes>"
      ]
     },
     "metadata": {
      "needs_background": "light"
     },
     "output_type": "display_data"
    }
   ],
   "source": [
    "import matplotlib.pyplot as plt\n",
    "from mpl_toolkits.axes_grid1.inset_locator import inset_axes\n",
    "\n",
    "\n",
    "fig, ax = plt.subplots(figsize=[7,3])\n",
    "# axins2 = inset_axes(ax, width=\"25%\", height=\"40.0%\", loc=3,borderpad=0)\n",
    "# axins2.tick_params(labelleft=False, labelbottom=False, length=0)\n",
    "# axins2.text(0.5,0.5,'test',va='center', ha='center')\n",
    "inset_plot(0.25,0.4,'t',10,ax)\n",
    "plt.show()"
   ]
  },
  {
   "cell_type": "code",
   "execution_count": 4,
   "id": "83593bd9-0742-4b53-8176-c90e767022cc",
   "metadata": {},
   "outputs": [
    {
     "data": {
      "image/png": "[encoded data removed]",
      "text/plain": [
       "<Figure size 432x288 with 1 Axes>"
      ]
     },
     "metadata": {
      "needs_background": "light"
     },
     "output_type": "display_data"
    }
   ],
   "source": [
    "import random\n",
    "import matplotlib.pyplot as plt\n",
    "\n",
    "x = range(32)\n",
    "y=[random.uniform(0,1) for p in range(32)]\n",
    "\n",
    "plt.bar(x,y,align='center') # A bar chart\n",
    "plt.title('Probabiliy of Heads from 32 Coin Tosses')\n",
    "plt.xlabel('% heads')\n",
    "plt.ylabel('Relative Frequency')\n",
    "plt.show()"
   ]
  },
  {
   "cell_type": "code",
   "execution_count": 91,
   "id": "5171a72d-330b-4a73-a30e-68cd9c9a98d3",
   "metadata": {},
   "outputs": [
    {
     "name": "stdout",
     "output_type": "stream",
     "text": [
      "50.0%\n"
     ]
    }
   ],
   "source": []
  },
  {
   "cell_type": "code",
   "execution_count": null,
   "id": "03baffda-d2b8-4486-84d0-aba51630387a",
   "metadata": {},
   "outputs": [],
   "source": []
  }
 ],
 "metadata": {
  "kernelspec": {
   "display_name": "Python 3 (ipykernel)",
   "language": "python",
   "name": "python3"
  },
  "language_info": {
   "codemirror_mode": {
    "name": "ipython",
    "version": 3
   },
   "file_extension": ".py",
   "mimetype": "text/x-python",
   "name": "python",
   "nbconvert_exporter": "python",
   "pygments_lexer": "ipython3",
   "version": "3.8.10"
  }
 },
 "nbformat": 4,
 "nbformat_minor": 5
}
